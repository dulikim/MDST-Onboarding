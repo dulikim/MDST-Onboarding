# @@@ Question 1: Here is a python list, initialize another list called b with the same values as a.
a = [1, 2, 3, 4, 5, 6]
b = a[:]